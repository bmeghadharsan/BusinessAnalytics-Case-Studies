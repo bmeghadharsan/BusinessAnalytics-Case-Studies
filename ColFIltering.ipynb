{
 "cells": [
  {
   "cell_type": "markdown",
   "id": "c8319f1d",
   "metadata": {},
   "source": [
    "<h2>Dataset : https://drive.google.com/file/d/1bczU3_-1t2Bb_5JJ_XCG6inSoOT7f0En/view?usp=share_link</h2>"
   ]
  },
  {
   "cell_type": "code",
   "execution_count": 1,
   "id": "88c0334b",
   "metadata": {},
   "outputs": [],
   "source": [
    "import numpy as np\n",
    "import pandas as pd\n",
    "import matplotlib.pyplot as plt\n",
    "import seaborn as sns"
   ]
  },
  {
   "cell_type": "code",
   "execution_count": 40,
   "id": "6b2fc1f4",
   "metadata": {},
   "outputs": [],
   "source": [
    "column_names=['userId','productId','rating','timestamp']\n",
    "df=pd.read_csv('ratings_Electronics .csv',names=column_names)"
   ]
  },
  {
   "cell_type": "code",
   "execution_count": 41,
   "id": "9220efe5",
   "metadata": {},
   "outputs": [
    {
     "data": {
      "text/plain": [
       "(7824482, 4)"
      ]
     },
     "execution_count": 41,
     "metadata": {},
     "output_type": "execute_result"
    }
   ],
   "source": [
    "df.shape"
   ]
  },
  {
   "cell_type": "code",
   "execution_count": 42,
   "id": "721c0087",
   "metadata": {},
   "outputs": [
    {
     "data": {
      "text/html": [
       "<div>\n",
       "<style scoped>\n",
       "    .dataframe tbody tr th:only-of-type {\n",
       "        vertical-align: middle;\n",
       "    }\n",
       "\n",
       "    .dataframe tbody tr th {\n",
       "        vertical-align: top;\n",
       "    }\n",
       "\n",
       "    .dataframe thead th {\n",
       "        text-align: right;\n",
       "    }\n",
       "</style>\n",
       "<table border=\"1\" class=\"dataframe\">\n",
       "  <thead>\n",
       "    <tr style=\"text-align: right;\">\n",
       "      <th></th>\n",
       "      <th>userId</th>\n",
       "      <th>productId</th>\n",
       "      <th>rating</th>\n",
       "      <th>timestamp</th>\n",
       "    </tr>\n",
       "  </thead>\n",
       "  <tbody>\n",
       "    <tr>\n",
       "      <th>0</th>\n",
       "      <td>AKM1MP6P0OYPR</td>\n",
       "      <td>0132793040</td>\n",
       "      <td>5.0</td>\n",
       "      <td>1365811200</td>\n",
       "    </tr>\n",
       "    <tr>\n",
       "      <th>1</th>\n",
       "      <td>A2CX7LUOHB2NDG</td>\n",
       "      <td>0321732944</td>\n",
       "      <td>5.0</td>\n",
       "      <td>1341100800</td>\n",
       "    </tr>\n",
       "    <tr>\n",
       "      <th>2</th>\n",
       "      <td>A2NWSAGRHCP8N5</td>\n",
       "      <td>0439886341</td>\n",
       "      <td>1.0</td>\n",
       "      <td>1367193600</td>\n",
       "    </tr>\n",
       "    <tr>\n",
       "      <th>3</th>\n",
       "      <td>A2WNBOD3WNDNKT</td>\n",
       "      <td>0439886341</td>\n",
       "      <td>3.0</td>\n",
       "      <td>1374451200</td>\n",
       "    </tr>\n",
       "    <tr>\n",
       "      <th>4</th>\n",
       "      <td>A1GI0U4ZRJA8WN</td>\n",
       "      <td>0439886341</td>\n",
       "      <td>1.0</td>\n",
       "      <td>1334707200</td>\n",
       "    </tr>\n",
       "  </tbody>\n",
       "</table>\n",
       "</div>"
      ],
      "text/plain": [
       "           userId   productId  rating   timestamp\n",
       "0   AKM1MP6P0OYPR  0132793040     5.0  1365811200\n",
       "1  A2CX7LUOHB2NDG  0321732944     5.0  1341100800\n",
       "2  A2NWSAGRHCP8N5  0439886341     1.0  1367193600\n",
       "3  A2WNBOD3WNDNKT  0439886341     3.0  1374451200\n",
       "4  A1GI0U4ZRJA8WN  0439886341     1.0  1334707200"
      ]
     },
     "execution_count": 42,
     "metadata": {},
     "output_type": "execute_result"
    }
   ],
   "source": [
    "df.head()"
   ]
  },
  {
   "cell_type": "code",
   "execution_count": 43,
   "id": "a0b84069",
   "metadata": {},
   "outputs": [
    {
     "data": {
      "text/plain": [
       "userId       0\n",
       "productId    0\n",
       "rating       0\n",
       "timestamp    0\n",
       "dtype: int64"
      ]
     },
     "execution_count": 43,
     "metadata": {},
     "output_type": "execute_result"
    }
   ],
   "source": [
    "df.isna().sum()"
   ]
  },
  {
   "cell_type": "code",
   "execution_count": 44,
   "id": "b8cf4387",
   "metadata": {},
   "outputs": [],
   "source": [
    "review_counts = df['userId'].value_counts()\n",
    "users = review_counts[review_counts >= 50].index.tolist()\n",
    "df = df[df['userId'].isin(users)]"
   ]
  },
  {
   "cell_type": "code",
   "execution_count": 25,
   "id": "a310b45e",
   "metadata": {},
   "outputs": [],
   "source": [
    "df = df[df['rating'] > 3]"
   ]
  },
  {
   "cell_type": "code",
   "execution_count": 26,
   "id": "3be4a693",
   "metadata": {},
   "outputs": [
    {
     "data": {
      "text/plain": [
       "(103329, 4)"
      ]
     },
     "execution_count": 26,
     "metadata": {},
     "output_type": "execute_result"
    }
   ],
   "source": [
    "df.shape"
   ]
  },
  {
   "cell_type": "code",
   "execution_count": 27,
   "id": "c840147c",
   "metadata": {},
   "outputs": [],
   "source": [
    "df.drop(columns=['timestamp'], inplace = True)"
   ]
  },
  {
   "cell_type": "code",
   "execution_count": 28,
   "id": "a021fee4",
   "metadata": {},
   "outputs": [
    {
     "data": {
      "text/plain": [
       "(103329, 3)"
      ]
     },
     "execution_count": 28,
     "metadata": {},
     "output_type": "execute_result"
    }
   ],
   "source": [
    "df.shape"
   ]
  },
  {
   "cell_type": "code",
   "execution_count": 29,
   "id": "d78a7db7",
   "metadata": {},
   "outputs": [],
   "source": [
    "from surprise import SVD, Reader, Dataset \n",
    "from surprise.model_selection import train_test_split"
   ]
  },
  {
   "cell_type": "code",
   "execution_count": 30,
   "id": "27c42423",
   "metadata": {},
   "outputs": [],
   "source": [
    "sim_options = {'name': 'pearson', 'user_based': False}\n",
    "svd = SVD()\n",
    "print(svd)\n",
    "svd.sim_options = sim_options\n",
    "reader = Reader()"
   ]
  },
  {
   "cell_type": "code",
   "execution_count": 31,
   "id": "aa6d4ddf",
   "metadata": {},
   "outputs": [],
   "source": [
    "data = Dataset.load_from_df(df[['userId', 'productId', 'rating']], reader)"
   ]
  },
  {
   "cell_type": "code",
   "execution_count": 32,
   "id": "dc1fd734",
   "metadata": {},
   "outputs": [],
   "source": [
    "trainset, testset = train_test_split(data, test_size=.25)"
   ]
  },
  {
   "cell_type": "code",
   "execution_count": 37,
   "id": "1a8d05cb",
   "metadata": {},
   "outputs": [
    {
     "data": {
      "text/plain": [
       "<surprise.prediction_algorithms.matrix_factorization.SVD at 0x7f40ca00b550>"
      ]
     },
     "execution_count": 37,
     "metadata": {},
     "output_type": "execute_result"
    }
   ],
   "source": [
    "svd.fit(trainset)"
   ]
  },
  {
   "cell_type": "code",
   "execution_count": 38,
   "id": "43a211a6",
   "metadata": {},
   "outputs": [
    {
     "data": {
      "text/plain": [
       "array([[-0.05228554,  0.06696161,  0.16537312, ...,  0.11271912,\n",
       "        -0.03995544, -0.03584349],\n",
       "       [ 0.08401008,  0.13647718, -0.06665783, ..., -0.04109713,\n",
       "         0.01724435,  0.03130982],\n",
       "       [-0.16638704, -0.00827859, -0.07996475, ..., -0.16622007,\n",
       "        -0.17121637, -0.06452454],\n",
       "       ...,\n",
       "       [ 0.09867366, -0.12615351, -0.02068442, ..., -0.13116117,\n",
       "        -0.04057565,  0.04052813],\n",
       "       [-0.03814591, -0.02898708, -0.21589361, ..., -0.05329857,\n",
       "         0.11178777, -0.00284372],\n",
       "       [-0.0786257 ,  0.05305619, -0.16586746, ..., -0.06345987,\n",
       "        -0.13881654, -0.05724047]])"
      ]
     },
     "execution_count": 38,
     "metadata": {},
     "output_type": "execute_result"
    }
   ],
   "source": [
    "svd.qi"
   ]
  },
  {
   "cell_type": "code",
   "execution_count": 39,
   "id": "6f823e4b",
   "metadata": {},
   "outputs": [
    {
     "data": {
      "text/plain": [
       "array([[-0.09283042,  0.11960867, -0.10929544, ..., -0.07620519,\n",
       "         0.1055965 , -0.0065822 ],\n",
       "       [-0.08671224, -0.07721008,  0.02500387, ...,  0.09309774,\n",
       "         0.01098084, -0.03440183],\n",
       "       [-0.04504406,  0.08833575, -0.03458067, ...,  0.04807032,\n",
       "        -0.01074006, -0.13711267],\n",
       "       ...,\n",
       "       [ 0.04875785,  0.09216028, -0.16804116, ...,  0.02942101,\n",
       "         0.00185853, -0.01985734],\n",
       "       [ 0.07274501,  0.10856561, -0.03802516, ...,  0.09237136,\n",
       "        -0.02901327, -0.0252563 ],\n",
       "       [-0.02915766, -0.06428593, -0.01381644, ...,  0.03002306,\n",
       "        -0.05682466, -0.03132497]])"
      ]
     },
     "execution_count": 39,
     "metadata": {},
     "output_type": "execute_result"
    }
   ],
   "source": [
    "svd.pu"
   ]
  },
  {
   "cell_type": "code",
   "execution_count": 34,
   "id": "a6da0b92",
   "metadata": {},
   "outputs": [],
   "source": [
    "predictions = svd.test(testset)"
   ]
  },
  {
   "cell_type": "code",
   "execution_count": 35,
   "id": "5313c428",
   "metadata": {},
   "outputs": [
    {
     "name": "stdout",
     "output_type": "stream",
     "text": [
      "RMSE: 0.4311\n"
     ]
    },
    {
     "data": {
      "text/plain": [
       "0.4310972404109803"
      ]
     },
     "execution_count": 35,
     "metadata": {},
     "output_type": "execute_result"
    }
   ],
   "source": [
    "from surprise import accuracy\n",
    "accuracy.rmse(predictions)"
   ]
  },
  {
   "cell_type": "code",
   "execution_count": 36,
   "id": "da6372ab",
   "metadata": {},
   "outputs": [
    {
     "name": "stdout",
     "output_type": "stream",
     "text": [
      "Top 5 recommended items for user A2NYK9KWFMJV4Y\n",
      "1. B000U92DLA (predicted rating: 5.00)\n",
      "2. B001GS8G2E (predicted rating: 5.00)\n",
      "3. B00CRJWW2G (predicted rating: 5.00)\n",
      "4. B00009V4GX (predicted rating: 5.00)\n",
      "5. B003Y0CXX0 (predicted rating: 5.00)\n"
     ]
    }
   ],
   "source": [
    "user_id = 'A2NYK9KWFMJV4Y'\n",
    "user_items = df[df['userId'] == user_id]['productId'].unique()\n",
    "all_items = df['productId'].unique()\n",
    "items_to_predict = set(all_items) - set(user_items)\n",
    "predictions = []\n",
    "for item_id in items_to_predict:\n",
    "    predicted_rating = svd.predict(user_id, item_id).est\n",
    "    predictions.append((item_id, predicted_rating))\n",
    "predictions.sort(key=lambda x: x[1], reverse=True)\n",
    "print('Top 5 recommended items for user', user_id)\n",
    "for i, (item_id, predicted_rating) in enumerate(predictions[:5]):\n",
    "    print(f'{i+1}. {item_id} (predicted rating: {predicted_rating:.2f})')"
   ]
  }
 ],
 "metadata": {
  "kernelspec": {
   "display_name": "Python 3 (ipykernel)",
   "language": "python",
   "name": "python3"
  },
  "language_info": {
   "codemirror_mode": {
    "name": "ipython",
    "version": 3
   },
   "file_extension": ".py",
   "mimetype": "text/x-python",
   "name": "python",
   "nbconvert_exporter": "python",
   "pygments_lexer": "ipython3",
   "version": "3.9.13"
  }
 },
 "nbformat": 4,
 "nbformat_minor": 5
}
